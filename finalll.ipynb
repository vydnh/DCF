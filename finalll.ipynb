{
 "cells": [
  {
   "cell_type": "code",
   "id": "initial_id",
   "metadata": {
    "collapsed": true,
    "ExecuteTime": {
     "end_time": "2025-03-12T11:44:48.427735Z",
     "start_time": "2025-03-12T11:43:22.109720Z"
    }
   },
   "source": [
    "#STOCK SCREENING\n",
    "import yfinance as yf\n",
    "import pandas as pd\n",
    "import numpy as np\n",
    "import requests\n",
    "from io import StringIO\n",
    "url = \"https://en.wikipedia.org/wiki/List_of_S%26P_500_companies\"\n",
    "response = requests.get(url).text\n",
    "table = pd.read_html(StringIO(response))\n",
    "sp500_tickers = table[0]['Symbol'].tolist()\n",
    "sp500_tickers = [ticker.replace('.', '-') for ticker in sp500_tickers]\n",
    "\n",
    "def filter_positive_growth(stock):\n",
    "    ticker = yf.Ticker(stock)\n",
    "    \n",
    "    # Fetching the income statement and cash flow\n",
    "    income_stmt = ticker.financials\n",
    "    cf = ticker.cashflow\n",
    "    \n",
    "    try:\n",
    "        # Get the Free Cash Flow, Pretax Income, and Tax Provision\n",
    "        free_cash_flow = cf.loc[\"Free Cash Flow\"].dropna().values\n",
    "        pre_tax_income = income_stmt.loc[\"Pretax Income\"].dropna().values\n",
    "        tax_provision = income_stmt.loc[\"Tax Provision\"].dropna().values\n",
    "        \n",
    "        # Check if Free Cash Flow is growing over the years\n",
    "        #if len(free_cash_flow) < 2:\n",
    "            #return False  # Not enough data to determine growth\n",
    "        \n",
    "        # Check if Free Cash Flow is growing\n",
    "        free_cash_flow_growth = np.all(np.diff(free_cash_flow) > 0)\n",
    "        \n",
    "        # Check if Pretax Income and Tax Provision are always positive\n",
    "        positive_pretax_income = np.all(pre_tax_income > 0)\n",
    "        positive_tax_provision = np.all(tax_provision > 0)\n",
    "        \n",
    "        # Return True if all conditions are met\n",
    "        return free_cash_flow_growth and positive_pretax_income and positive_tax_provision\n",
    "\n",
    "    except KeyError:\n",
    "        return False\n",
    "\n",
    "# Filter tickers based on the given criteria\n",
    "filtered_tickers = []\n",
    "for stock in sp500_tickers:  \n",
    "    if filter_positive_growth(stock):\n",
    "        filtered_tickers.append(stock)\n",
    "\n",
    "# Print the filtered tickers\n",
    "print(filtered_tickers)\n"
   ],
   "outputs": [
    {
     "ename": "KeyboardInterrupt",
     "evalue": "",
     "output_type": "error",
     "traceback": [
      "\u001B[31m---------------------------------------------------------------------------\u001B[39m",
      "\u001B[31mKeyboardInterrupt\u001B[39m                         Traceback (most recent call last)",
      "\u001B[36mCell\u001B[39m\u001B[36m \u001B[39m\u001B[32mIn[36]\u001B[39m\u001B[32m, line 46\u001B[39m\n\u001B[32m     44\u001B[39m filtered_tickers = []\n\u001B[32m     45\u001B[39m \u001B[38;5;28;01mfor\u001B[39;00m stock \u001B[38;5;129;01min\u001B[39;00m sp500_tickers:  \n\u001B[32m---> \u001B[39m\u001B[32m46\u001B[39m     \u001B[38;5;28;01mif\u001B[39;00m \u001B[43mfilter_positive_growth\u001B[49m\u001B[43m(\u001B[49m\u001B[43mstock\u001B[49m\u001B[43m)\u001B[49m:\n\u001B[32m     47\u001B[39m         filtered_tickers.append(stock)\n\u001B[32m     49\u001B[39m \u001B[38;5;66;03m# Print the filtered tickers\u001B[39;00m\n",
      "\u001B[36mCell\u001B[39m\u001B[36m \u001B[39m\u001B[32mIn[36]\u001B[39m\u001B[32m, line 18\u001B[39m, in \u001B[36mfilter_positive_growth\u001B[39m\u001B[34m(stock)\u001B[39m\n\u001B[32m     16\u001B[39m \u001B[38;5;66;03m# Fetching the income statement and cash flow\u001B[39;00m\n\u001B[32m     17\u001B[39m income_stmt = ticker.financials\n\u001B[32m---> \u001B[39m\u001B[32m18\u001B[39m cf = \u001B[43mticker\u001B[49m\u001B[43m.\u001B[49m\u001B[43mcashflow\u001B[49m\n\u001B[32m     20\u001B[39m \u001B[38;5;28;01mtry\u001B[39;00m:\n\u001B[32m     21\u001B[39m     \u001B[38;5;66;03m# Get the Free Cash Flow, Pretax Income, and Tax Provision\u001B[39;00m\n\u001B[32m     22\u001B[39m     free_cash_flow = cf.loc[\u001B[33m\"\u001B[39m\u001B[33mFree Cash Flow\u001B[39m\u001B[33m\"\u001B[39m].dropna().values\n",
      "\u001B[36mFile \u001B[39m\u001B[32m~\\PycharmProjects\\pythonProject2\\.venv\\Lib\\site-packages\\yfinance\\ticker.py:246\u001B[39m, in \u001B[36mTicker.cashflow\u001B[39m\u001B[34m(self)\u001B[39m\n\u001B[32m    244\u001B[39m \u001B[38;5;129m@property\u001B[39m\n\u001B[32m    245\u001B[39m \u001B[38;5;28;01mdef\u001B[39;00m\u001B[38;5;250m \u001B[39m\u001B[34mcashflow\u001B[39m(\u001B[38;5;28mself\u001B[39m) -> _pd.DataFrame:\n\u001B[32m--> \u001B[39m\u001B[32m246\u001B[39m     \u001B[38;5;28;01mreturn\u001B[39;00m \u001B[38;5;28;43mself\u001B[39;49m\u001B[43m.\u001B[49m\u001B[43mcash_flow\u001B[49m\n",
      "\u001B[36mFile \u001B[39m\u001B[32m~\\PycharmProjects\\pythonProject2\\.venv\\Lib\\site-packages\\yfinance\\ticker.py:238\u001B[39m, in \u001B[36mTicker.cash_flow\u001B[39m\u001B[34m(self)\u001B[39m\n\u001B[32m    236\u001B[39m \u001B[38;5;129m@property\u001B[39m\n\u001B[32m    237\u001B[39m \u001B[38;5;28;01mdef\u001B[39;00m\u001B[38;5;250m \u001B[39m\u001B[34mcash_flow\u001B[39m(\u001B[38;5;28mself\u001B[39m) -> _pd.DataFrame:\n\u001B[32m--> \u001B[39m\u001B[32m238\u001B[39m     \u001B[38;5;28;01mreturn\u001B[39;00m \u001B[38;5;28;43mself\u001B[39;49m\u001B[43m.\u001B[49m\u001B[43mget_cash_flow\u001B[49m\u001B[43m(\u001B[49m\u001B[43mpretty\u001B[49m\u001B[43m=\u001B[49m\u001B[38;5;28;43;01mTrue\u001B[39;49;00m\u001B[43m,\u001B[49m\u001B[43m \u001B[49m\u001B[43mfreq\u001B[49m\u001B[43m=\u001B[49m\u001B[33;43m\"\u001B[39;49m\u001B[33;43myearly\u001B[39;49m\u001B[33;43m\"\u001B[39;49m\u001B[43m)\u001B[49m\n",
      "\u001B[36mFile \u001B[39m\u001B[32m~\\PycharmProjects\\pythonProject2\\.venv\\Lib\\site-packages\\yfinance\\base.py:419\u001B[39m, in \u001B[36mTickerBase.get_cash_flow\u001B[39m\u001B[34m(self, proxy, as_dict, pretty, freq)\u001B[39m\n\u001B[32m    402\u001B[39m \u001B[38;5;250m\u001B[39m\u001B[33;03m\"\"\"\u001B[39;00m\n\u001B[32m    403\u001B[39m \u001B[33;03m:Parameters:\u001B[39;00m\n\u001B[32m    404\u001B[39m \u001B[33;03m    as_dict: bool\u001B[39;00m\n\u001B[32m   (...)\u001B[39m\u001B[32m    415\u001B[39m \u001B[33;03m        Default is None\u001B[39;00m\n\u001B[32m    416\u001B[39m \u001B[33;03m\"\"\"\u001B[39;00m\n\u001B[32m    417\u001B[39m \u001B[38;5;28mself\u001B[39m._fundamentals.proxy = proxy \u001B[38;5;129;01mor\u001B[39;00m \u001B[38;5;28mself\u001B[39m.proxy\n\u001B[32m--> \u001B[39m\u001B[32m419\u001B[39m data = \u001B[38;5;28;43mself\u001B[39;49m\u001B[43m.\u001B[49m\u001B[43m_fundamentals\u001B[49m\u001B[43m.\u001B[49m\u001B[43mfinancials\u001B[49m\u001B[43m.\u001B[49m\u001B[43mget_cash_flow_time_series\u001B[49m\u001B[43m(\u001B[49m\u001B[43mfreq\u001B[49m\u001B[43m=\u001B[49m\u001B[43mfreq\u001B[49m\u001B[43m,\u001B[49m\u001B[43m \u001B[49m\u001B[43mproxy\u001B[49m\u001B[43m=\u001B[49m\u001B[43mproxy\u001B[49m\u001B[43m)\u001B[49m\n\u001B[32m    421\u001B[39m \u001B[38;5;28;01mif\u001B[39;00m pretty:\n\u001B[32m    422\u001B[39m     data = data.copy()\n",
      "\u001B[36mFile \u001B[39m\u001B[32m~\\PycharmProjects\\pythonProject2\\.venv\\Lib\\site-packages\\yfinance\\scrapers\\fundamentals.py:66\u001B[39m, in \u001B[36mFinancials.get_cash_flow_time_series\u001B[39m\u001B[34m(self, freq, proxy)\u001B[39m\n\u001B[32m     64\u001B[39m res = \u001B[38;5;28mself\u001B[39m._cash_flow_time_series\n\u001B[32m     65\u001B[39m \u001B[38;5;28;01mif\u001B[39;00m freq \u001B[38;5;129;01mnot\u001B[39;00m \u001B[38;5;129;01min\u001B[39;00m res:\n\u001B[32m---> \u001B[39m\u001B[32m66\u001B[39m     res[freq] = \u001B[38;5;28;43mself\u001B[39;49m\u001B[43m.\u001B[49m\u001B[43m_fetch_time_series\u001B[49m\u001B[43m(\u001B[49m\u001B[33;43m\"\u001B[39;49m\u001B[33;43mcash-flow\u001B[39;49m\u001B[33;43m\"\u001B[39;49m\u001B[43m,\u001B[49m\u001B[43m \u001B[49m\u001B[43mfreq\u001B[49m\u001B[43m,\u001B[49m\u001B[43m \u001B[49m\u001B[43mproxy\u001B[49m\u001B[43m)\u001B[49m\n\u001B[32m     67\u001B[39m \u001B[38;5;28;01mreturn\u001B[39;00m res[freq]\n",
      "\u001B[36mFile \u001B[39m\u001B[32m~\\PycharmProjects\\pythonProject2\\.venv\\Lib\\site-packages\\yfinance\\utils.py:104\u001B[39m, in \u001B[36mlog_indent_decorator.<locals>.wrapper\u001B[39m\u001B[34m(*args, **kwargs)\u001B[39m\n\u001B[32m    101\u001B[39m logger.debug(\u001B[33mf\u001B[39m\u001B[33m'\u001B[39m\u001B[33mEntering \u001B[39m\u001B[38;5;132;01m{\u001B[39;00mfunc.\u001B[34m__name__\u001B[39m\u001B[38;5;132;01m}\u001B[39;00m\u001B[33m()\u001B[39m\u001B[33m'\u001B[39m)\n\u001B[32m    103\u001B[39m \u001B[38;5;28;01mwith\u001B[39;00m IndentationContext():\n\u001B[32m--> \u001B[39m\u001B[32m104\u001B[39m     result = \u001B[43mfunc\u001B[49m\u001B[43m(\u001B[49m\u001B[43m*\u001B[49m\u001B[43margs\u001B[49m\u001B[43m,\u001B[49m\u001B[43m \u001B[49m\u001B[43m*\u001B[49m\u001B[43m*\u001B[49m\u001B[43mkwargs\u001B[49m\u001B[43m)\u001B[49m\n\u001B[32m    106\u001B[39m logger.debug(\u001B[33mf\u001B[39m\u001B[33m'\u001B[39m\u001B[33mExiting \u001B[39m\u001B[38;5;132;01m{\u001B[39;00mfunc.\u001B[34m__name__\u001B[39m\u001B[38;5;132;01m}\u001B[39;00m\u001B[33m()\u001B[39m\u001B[33m'\u001B[39m)\n\u001B[32m    107\u001B[39m \u001B[38;5;28;01mreturn\u001B[39;00m result\n",
      "\u001B[36mFile \u001B[39m\u001B[32m~\\PycharmProjects\\pythonProject2\\.venv\\Lib\\site-packages\\yfinance\\scrapers\\fundamentals.py:84\u001B[39m, in \u001B[36mFinancials._fetch_time_series\u001B[39m\u001B[34m(self, name, timescale, proxy)\u001B[39m\n\u001B[32m     81\u001B[39m     \u001B[38;5;28;01mraise\u001B[39;00m \u001B[38;5;167;01mValueError\u001B[39;00m(\u001B[33mf\u001B[39m\u001B[33m\"\u001B[39m\u001B[33mIllegal argument: timescale must be one of: \u001B[39m\u001B[38;5;132;01m{\u001B[39;00mallowed_timescales\u001B[38;5;132;01m}\u001B[39;00m\u001B[33m\"\u001B[39m)\n\u001B[32m     83\u001B[39m \u001B[38;5;28;01mtry\u001B[39;00m:\n\u001B[32m---> \u001B[39m\u001B[32m84\u001B[39m     statement = \u001B[38;5;28;43mself\u001B[39;49m\u001B[43m.\u001B[49m\u001B[43m_create_financials_table\u001B[49m\u001B[43m(\u001B[49m\u001B[43mname\u001B[49m\u001B[43m,\u001B[49m\u001B[43m \u001B[49m\u001B[43mtimescale\u001B[49m\u001B[43m,\u001B[49m\u001B[43m \u001B[49m\u001B[43mproxy\u001B[49m\u001B[43m)\u001B[49m\n\u001B[32m     86\u001B[39m     \u001B[38;5;28;01mif\u001B[39;00m statement \u001B[38;5;129;01mis\u001B[39;00m \u001B[38;5;129;01mnot\u001B[39;00m \u001B[38;5;28;01mNone\u001B[39;00m:\n\u001B[32m     87\u001B[39m         \u001B[38;5;28;01mreturn\u001B[39;00m statement\n",
      "\u001B[36mFile \u001B[39m\u001B[32m~\\PycharmProjects\\pythonProject2\\.venv\\Lib\\site-packages\\yfinance\\scrapers\\fundamentals.py:100\u001B[39m, in \u001B[36mFinancials._create_financials_table\u001B[39m\u001B[34m(self, name, timescale, proxy)\u001B[39m\n\u001B[32m     97\u001B[39m keys = const.fundamentals_keys[name]\n\u001B[32m     99\u001B[39m \u001B[38;5;28;01mtry\u001B[39;00m:\n\u001B[32m--> \u001B[39m\u001B[32m100\u001B[39m     \u001B[38;5;28;01mreturn\u001B[39;00m \u001B[38;5;28;43mself\u001B[39;49m\u001B[43m.\u001B[49m\u001B[43mget_financials_time_series\u001B[49m\u001B[43m(\u001B[49m\u001B[43mtimescale\u001B[49m\u001B[43m,\u001B[49m\u001B[43m \u001B[49m\u001B[43mkeys\u001B[49m\u001B[43m,\u001B[49m\u001B[43m \u001B[49m\u001B[43mproxy\u001B[49m\u001B[43m)\u001B[49m\n\u001B[32m    101\u001B[39m \u001B[38;5;28;01mexcept\u001B[39;00m \u001B[38;5;167;01mException\u001B[39;00m:\n\u001B[32m    102\u001B[39m     \u001B[38;5;28;01mpass\u001B[39;00m\n",
      "\u001B[36mFile \u001B[39m\u001B[32m~\\PycharmProjects\\pythonProject2\\.venv\\Lib\\site-packages\\yfinance\\scrapers\\fundamentals.py:140\u001B[39m, in \u001B[36mFinancials.get_financials_time_series\u001B[39m\u001B[34m(self, timescale, keys, proxy)\u001B[39m\n\u001B[32m    138\u001B[39m     \u001B[38;5;28;01mif\u001B[39;00m df \u001B[38;5;129;01mis\u001B[39;00m \u001B[38;5;28;01mNone\u001B[39;00m:\n\u001B[32m    139\u001B[39m         df = pd.DataFrame(columns=dates, index=[k])\n\u001B[32m--> \u001B[39m\u001B[32m140\u001B[39m     \u001B[43mdf\u001B[49m\u001B[43m.\u001B[49m\u001B[43mloc\u001B[49m\u001B[43m[\u001B[49m\u001B[43mk\u001B[49m\u001B[43m]\u001B[49m = {pd.Timestamp(x[\u001B[33m\"\u001B[39m\u001B[33masOfDate\u001B[39m\u001B[33m\"\u001B[39m]): x[\u001B[33m\"\u001B[39m\u001B[33mreportedValue\u001B[39m\u001B[33m\"\u001B[39m][\u001B[33m\"\u001B[39m\u001B[33mraw\u001B[39m\u001B[33m\"\u001B[39m] \u001B[38;5;28;01mfor\u001B[39;00m x \u001B[38;5;129;01min\u001B[39;00m v}\n\u001B[32m    142\u001B[39m df.index = df.index.str.replace(\u001B[33m\"\u001B[39m\u001B[33m^\u001B[39m\u001B[33m\"\u001B[39m + timescale, \u001B[33m\"\u001B[39m\u001B[33m\"\u001B[39m, regex=\u001B[38;5;28;01mTrue\u001B[39;00m)\n\u001B[32m    144\u001B[39m \u001B[38;5;66;03m# Reorder table to match order on Yahoo website\u001B[39;00m\n",
      "\u001B[36mFile \u001B[39m\u001B[32m~\\PycharmProjects\\pythonProject2\\.venv\\Lib\\site-packages\\pandas\\core\\indexing.py:911\u001B[39m, in \u001B[36m_LocationIndexer.__setitem__\u001B[39m\u001B[34m(self, key, value)\u001B[39m\n\u001B[32m    908\u001B[39m \u001B[38;5;28mself\u001B[39m._has_valid_setitem_indexer(key)\n\u001B[32m    910\u001B[39m iloc = \u001B[38;5;28mself\u001B[39m \u001B[38;5;28;01mif\u001B[39;00m \u001B[38;5;28mself\u001B[39m.name == \u001B[33m\"\u001B[39m\u001B[33miloc\u001B[39m\u001B[33m\"\u001B[39m \u001B[38;5;28;01melse\u001B[39;00m \u001B[38;5;28mself\u001B[39m.obj.iloc\n\u001B[32m--> \u001B[39m\u001B[32m911\u001B[39m \u001B[43miloc\u001B[49m\u001B[43m.\u001B[49m\u001B[43m_setitem_with_indexer\u001B[49m\u001B[43m(\u001B[49m\u001B[43mindexer\u001B[49m\u001B[43m,\u001B[49m\u001B[43m \u001B[49m\u001B[43mvalue\u001B[49m\u001B[43m,\u001B[49m\u001B[43m \u001B[49m\u001B[38;5;28;43mself\u001B[39;49m\u001B[43m.\u001B[49m\u001B[43mname\u001B[49m\u001B[43m)\u001B[49m\n",
      "\u001B[36mFile \u001B[39m\u001B[32m~\\PycharmProjects\\pythonProject2\\.venv\\Lib\\site-packages\\pandas\\core\\indexing.py:1944\u001B[39m, in \u001B[36m_iLocIndexer._setitem_with_indexer\u001B[39m\u001B[34m(self, indexer, value, name)\u001B[39m\n\u001B[32m   1942\u001B[39m     \u001B[38;5;28mself\u001B[39m._setitem_with_indexer_split_path(indexer, value, name)\n\u001B[32m   1943\u001B[39m \u001B[38;5;28;01melse\u001B[39;00m:\n\u001B[32m-> \u001B[39m\u001B[32m1944\u001B[39m     \u001B[38;5;28;43mself\u001B[39;49m\u001B[43m.\u001B[49m\u001B[43m_setitem_single_block\u001B[49m\u001B[43m(\u001B[49m\u001B[43mindexer\u001B[49m\u001B[43m,\u001B[49m\u001B[43m \u001B[49m\u001B[43mvalue\u001B[49m\u001B[43m,\u001B[49m\u001B[43m \u001B[49m\u001B[43mname\u001B[49m\u001B[43m)\u001B[49m\n",
      "\u001B[36mFile \u001B[39m\u001B[32m~\\PycharmProjects\\pythonProject2\\.venv\\Lib\\site-packages\\pandas\\core\\indexing.py:2189\u001B[39m, in \u001B[36m_iLocIndexer._setitem_single_block\u001B[39m\u001B[34m(self, indexer, value, name)\u001B[39m\n\u001B[32m   2183\u001B[39m \u001B[38;5;28;01mfrom\u001B[39;00m\u001B[38;5;250m \u001B[39m\u001B[34;01mpandas\u001B[39;00m\u001B[38;5;250m \u001B[39m\u001B[38;5;28;01mimport\u001B[39;00m Series\n\u001B[32m   2185\u001B[39m \u001B[38;5;28;01mif\u001B[39;00m (\u001B[38;5;28misinstance\u001B[39m(value, ABCSeries) \u001B[38;5;129;01mand\u001B[39;00m name != \u001B[33m\"\u001B[39m\u001B[33miloc\u001B[39m\u001B[33m\"\u001B[39m) \u001B[38;5;129;01mor\u001B[39;00m \u001B[38;5;28misinstance\u001B[39m(value, \u001B[38;5;28mdict\u001B[39m):\n\u001B[32m   2186\u001B[39m     \u001B[38;5;66;03m# TODO(EA): ExtensionBlock.setitem this causes issues with\u001B[39;00m\n\u001B[32m   2187\u001B[39m     \u001B[38;5;66;03m# setting for extensionarrays that store dicts. Need to decide\u001B[39;00m\n\u001B[32m   2188\u001B[39m     \u001B[38;5;66;03m# if it's worth supporting that.\u001B[39;00m\n\u001B[32m-> \u001B[39m\u001B[32m2189\u001B[39m     value = \u001B[38;5;28;43mself\u001B[39;49m\u001B[43m.\u001B[49m\u001B[43m_align_series\u001B[49m\u001B[43m(\u001B[49m\u001B[43mindexer\u001B[49m\u001B[43m,\u001B[49m\u001B[43m \u001B[49m\u001B[43mSeries\u001B[49m\u001B[43m(\u001B[49m\u001B[43mvalue\u001B[49m\u001B[43m)\u001B[49m\u001B[43m)\u001B[49m\n\u001B[32m   2191\u001B[39m info_axis = \u001B[38;5;28mself\u001B[39m.obj._info_axis_number\n\u001B[32m   2192\u001B[39m item_labels = \u001B[38;5;28mself\u001B[39m.obj._get_axis(info_axis)\n",
      "\u001B[36mFile \u001B[39m\u001B[32m~\\PycharmProjects\\pythonProject2\\.venv\\Lib\\site-packages\\pandas\\core\\indexing.py:2453\u001B[39m, in \u001B[36m_iLocIndexer._align_series\u001B[39m\u001B[34m(self, indexer, ser, multiindex_indexer, using_cow)\u001B[39m\n\u001B[32m   2450\u001B[39m     \u001B[38;5;28;01mif\u001B[39;00m ser.index.equals(ax):\n\u001B[32m   2451\u001B[39m         \u001B[38;5;28;01mreturn\u001B[39;00m ser._values.copy()\n\u001B[32m-> \u001B[39m\u001B[32m2453\u001B[39m     \u001B[38;5;28;01mreturn\u001B[39;00m \u001B[43mser\u001B[49m\u001B[43m.\u001B[49m\u001B[43mreindex\u001B[49m\u001B[43m(\u001B[49m\u001B[43max\u001B[49m\u001B[43m)\u001B[49m._values\n\u001B[32m   2455\u001B[39m \u001B[38;5;28;01mraise\u001B[39;00m \u001B[38;5;167;01mValueError\u001B[39;00m(\u001B[33m\"\u001B[39m\u001B[33mIncompatible indexer with Series\u001B[39m\u001B[33m\"\u001B[39m)\n",
      "\u001B[36mFile \u001B[39m\u001B[32m~\\PycharmProjects\\pythonProject2\\.venv\\Lib\\site-packages\\pandas\\core\\series.py:5153\u001B[39m, in \u001B[36mSeries.reindex\u001B[39m\u001B[34m(self, index, axis, method, copy, level, fill_value, limit, tolerance)\u001B[39m\n\u001B[32m   5136\u001B[39m \u001B[38;5;129m@doc\u001B[39m(\n\u001B[32m   5137\u001B[39m     NDFrame.reindex,  \u001B[38;5;66;03m# type: ignore[has-type]\u001B[39;00m\n\u001B[32m   5138\u001B[39m     klass=_shared_doc_kwargs[\u001B[33m\"\u001B[39m\u001B[33mklass\u001B[39m\u001B[33m\"\u001B[39m],\n\u001B[32m   (...)\u001B[39m\u001B[32m   5151\u001B[39m     tolerance=\u001B[38;5;28;01mNone\u001B[39;00m,\n\u001B[32m   5152\u001B[39m ) -> Series:\n\u001B[32m-> \u001B[39m\u001B[32m5153\u001B[39m     \u001B[38;5;28;01mreturn\u001B[39;00m \u001B[38;5;28;43msuper\u001B[39;49m\u001B[43m(\u001B[49m\u001B[43m)\u001B[49m\u001B[43m.\u001B[49m\u001B[43mreindex\u001B[49m\u001B[43m(\u001B[49m\n\u001B[32m   5154\u001B[39m \u001B[43m        \u001B[49m\u001B[43mindex\u001B[49m\u001B[43m=\u001B[49m\u001B[43mindex\u001B[49m\u001B[43m,\u001B[49m\n\u001B[32m   5155\u001B[39m \u001B[43m        \u001B[49m\u001B[43mmethod\u001B[49m\u001B[43m=\u001B[49m\u001B[43mmethod\u001B[49m\u001B[43m,\u001B[49m\n\u001B[32m   5156\u001B[39m \u001B[43m        \u001B[49m\u001B[43mcopy\u001B[49m\u001B[43m=\u001B[49m\u001B[43mcopy\u001B[49m\u001B[43m,\u001B[49m\n\u001B[32m   5157\u001B[39m \u001B[43m        \u001B[49m\u001B[43mlevel\u001B[49m\u001B[43m=\u001B[49m\u001B[43mlevel\u001B[49m\u001B[43m,\u001B[49m\n\u001B[32m   5158\u001B[39m \u001B[43m        \u001B[49m\u001B[43mfill_value\u001B[49m\u001B[43m=\u001B[49m\u001B[43mfill_value\u001B[49m\u001B[43m,\u001B[49m\n\u001B[32m   5159\u001B[39m \u001B[43m        \u001B[49m\u001B[43mlimit\u001B[49m\u001B[43m=\u001B[49m\u001B[43mlimit\u001B[49m\u001B[43m,\u001B[49m\n\u001B[32m   5160\u001B[39m \u001B[43m        \u001B[49m\u001B[43mtolerance\u001B[49m\u001B[43m=\u001B[49m\u001B[43mtolerance\u001B[49m\u001B[43m,\u001B[49m\n\u001B[32m   5161\u001B[39m \u001B[43m    \u001B[49m\u001B[43m)\u001B[49m\n",
      "\u001B[36mFile \u001B[39m\u001B[32m~\\PycharmProjects\\pythonProject2\\.venv\\Lib\\site-packages\\pandas\\core\\generic.py:5610\u001B[39m, in \u001B[36mNDFrame.reindex\u001B[39m\u001B[34m(self, labels, index, columns, axis, method, copy, level, fill_value, limit, tolerance)\u001B[39m\n\u001B[32m   5607\u001B[39m     \u001B[38;5;28;01mreturn\u001B[39;00m \u001B[38;5;28mself\u001B[39m._reindex_multi(axes, copy, fill_value)\n\u001B[32m   5609\u001B[39m \u001B[38;5;66;03m# perform the reindex on the axes\u001B[39;00m\n\u001B[32m-> \u001B[39m\u001B[32m5610\u001B[39m \u001B[38;5;28;01mreturn\u001B[39;00m \u001B[38;5;28;43mself\u001B[39;49m\u001B[43m.\u001B[49m\u001B[43m_reindex_axes\u001B[49m\u001B[43m(\u001B[49m\n\u001B[32m   5611\u001B[39m \u001B[43m    \u001B[49m\u001B[43maxes\u001B[49m\u001B[43m,\u001B[49m\u001B[43m \u001B[49m\u001B[43mlevel\u001B[49m\u001B[43m,\u001B[49m\u001B[43m \u001B[49m\u001B[43mlimit\u001B[49m\u001B[43m,\u001B[49m\u001B[43m \u001B[49m\u001B[43mtolerance\u001B[49m\u001B[43m,\u001B[49m\u001B[43m \u001B[49m\u001B[43mmethod\u001B[49m\u001B[43m,\u001B[49m\u001B[43m \u001B[49m\u001B[43mfill_value\u001B[49m\u001B[43m,\u001B[49m\u001B[43m \u001B[49m\u001B[43mcopy\u001B[49m\n\u001B[32m   5612\u001B[39m \u001B[43m\u001B[49m\u001B[43m)\u001B[49m.__finalize__(\u001B[38;5;28mself\u001B[39m, method=\u001B[33m\"\u001B[39m\u001B[33mreindex\u001B[39m\u001B[33m\"\u001B[39m)\n",
      "\u001B[36mFile \u001B[39m\u001B[32m~\\PycharmProjects\\pythonProject2\\.venv\\Lib\\site-packages\\pandas\\core\\generic.py:5638\u001B[39m, in \u001B[36mNDFrame._reindex_axes\u001B[39m\u001B[34m(self, axes, level, limit, tolerance, method, fill_value, copy)\u001B[39m\n\u001B[32m   5633\u001B[39m new_index, indexer = ax.reindex(\n\u001B[32m   5634\u001B[39m     labels, level=level, limit=limit, tolerance=tolerance, method=method\n\u001B[32m   5635\u001B[39m )\n\u001B[32m   5637\u001B[39m axis = \u001B[38;5;28mself\u001B[39m._get_axis_number(a)\n\u001B[32m-> \u001B[39m\u001B[32m5638\u001B[39m obj = \u001B[43mobj\u001B[49m\u001B[43m.\u001B[49m\u001B[43m_reindex_with_indexers\u001B[49m\u001B[43m(\u001B[49m\n\u001B[32m   5639\u001B[39m \u001B[43m    \u001B[49m\u001B[43m{\u001B[49m\u001B[43maxis\u001B[49m\u001B[43m:\u001B[49m\u001B[43m \u001B[49m\u001B[43m[\u001B[49m\u001B[43mnew_index\u001B[49m\u001B[43m,\u001B[49m\u001B[43m \u001B[49m\u001B[43mindexer\u001B[49m\u001B[43m]\u001B[49m\u001B[43m}\u001B[49m\u001B[43m,\u001B[49m\n\u001B[32m   5640\u001B[39m \u001B[43m    \u001B[49m\u001B[43mfill_value\u001B[49m\u001B[43m=\u001B[49m\u001B[43mfill_value\u001B[49m\u001B[43m,\u001B[49m\n\u001B[32m   5641\u001B[39m \u001B[43m    \u001B[49m\u001B[43mcopy\u001B[49m\u001B[43m=\u001B[49m\u001B[43mcopy\u001B[49m\u001B[43m,\u001B[49m\n\u001B[32m   5642\u001B[39m \u001B[43m    \u001B[49m\u001B[43mallow_dups\u001B[49m\u001B[43m=\u001B[49m\u001B[38;5;28;43;01mFalse\u001B[39;49;00m\u001B[43m,\u001B[49m\n\u001B[32m   5643\u001B[39m \u001B[43m\u001B[49m\u001B[43m)\u001B[49m\n\u001B[32m   5644\u001B[39m \u001B[38;5;66;03m# If we've made a copy once, no need to make another one\u001B[39;00m\n\u001B[32m   5645\u001B[39m copy = \u001B[38;5;28;01mFalse\u001B[39;00m\n",
      "\u001B[36mFile \u001B[39m\u001B[32m~\\PycharmProjects\\pythonProject2\\.venv\\Lib\\site-packages\\pandas\\core\\generic.py:5686\u001B[39m, in \u001B[36mNDFrame._reindex_with_indexers\u001B[39m\u001B[34m(self, reindexers, fill_value, copy, allow_dups)\u001B[39m\n\u001B[32m   5683\u001B[39m     indexer = ensure_platform_int(indexer)\n\u001B[32m   5685\u001B[39m \u001B[38;5;66;03m# TODO: speed up on homogeneous DataFrame objects (see _reindex_multi)\u001B[39;00m\n\u001B[32m-> \u001B[39m\u001B[32m5686\u001B[39m new_data = \u001B[43mnew_data\u001B[49m\u001B[43m.\u001B[49m\u001B[43mreindex_indexer\u001B[49m\u001B[43m(\u001B[49m\n\u001B[32m   5687\u001B[39m \u001B[43m    \u001B[49m\u001B[43mindex\u001B[49m\u001B[43m,\u001B[49m\n\u001B[32m   5688\u001B[39m \u001B[43m    \u001B[49m\u001B[43mindexer\u001B[49m\u001B[43m,\u001B[49m\n\u001B[32m   5689\u001B[39m \u001B[43m    \u001B[49m\u001B[43maxis\u001B[49m\u001B[43m=\u001B[49m\u001B[43mbaxis\u001B[49m\u001B[43m,\u001B[49m\n\u001B[32m   5690\u001B[39m \u001B[43m    \u001B[49m\u001B[43mfill_value\u001B[49m\u001B[43m=\u001B[49m\u001B[43mfill_value\u001B[49m\u001B[43m,\u001B[49m\n\u001B[32m   5691\u001B[39m \u001B[43m    \u001B[49m\u001B[43mallow_dups\u001B[49m\u001B[43m=\u001B[49m\u001B[43mallow_dups\u001B[49m\u001B[43m,\u001B[49m\n\u001B[32m   5692\u001B[39m \u001B[43m    \u001B[49m\u001B[43mcopy\u001B[49m\u001B[43m=\u001B[49m\u001B[43mcopy\u001B[49m\u001B[43m,\u001B[49m\n\u001B[32m   5693\u001B[39m \u001B[43m\u001B[49m\u001B[43m)\u001B[49m\n\u001B[32m   5694\u001B[39m \u001B[38;5;66;03m# If we've made a copy once, no need to make another one\u001B[39;00m\n\u001B[32m   5695\u001B[39m copy = \u001B[38;5;28;01mFalse\u001B[39;00m\n",
      "\u001B[36mFile \u001B[39m\u001B[32m~\\PycharmProjects\\pythonProject2\\.venv\\Lib\\site-packages\\pandas\\core\\internals\\managers.py:680\u001B[39m, in \u001B[36mBaseBlockManager.reindex_indexer\u001B[39m\u001B[34m(self, new_axis, indexer, axis, fill_value, allow_dups, copy, only_slice, use_na_proxy)\u001B[39m\n\u001B[32m    677\u001B[39m     \u001B[38;5;28;01mraise\u001B[39;00m \u001B[38;5;167;01mIndexError\u001B[39;00m(\u001B[33m\"\u001B[39m\u001B[33mRequested axis not found in manager\u001B[39m\u001B[33m\"\u001B[39m)\n\u001B[32m    679\u001B[39m \u001B[38;5;28;01mif\u001B[39;00m axis == \u001B[32m0\u001B[39m:\n\u001B[32m--> \u001B[39m\u001B[32m680\u001B[39m     new_blocks = \u001B[38;5;28;43mself\u001B[39;49m\u001B[43m.\u001B[49m\u001B[43m_slice_take_blocks_ax0\u001B[49m\u001B[43m(\u001B[49m\n\u001B[32m    681\u001B[39m \u001B[43m        \u001B[49m\u001B[43mindexer\u001B[49m\u001B[43m,\u001B[49m\n\u001B[32m    682\u001B[39m \u001B[43m        \u001B[49m\u001B[43mfill_value\u001B[49m\u001B[43m=\u001B[49m\u001B[43mfill_value\u001B[49m\u001B[43m,\u001B[49m\n\u001B[32m    683\u001B[39m \u001B[43m        \u001B[49m\u001B[43monly_slice\u001B[49m\u001B[43m=\u001B[49m\u001B[43monly_slice\u001B[49m\u001B[43m,\u001B[49m\n\u001B[32m    684\u001B[39m \u001B[43m        \u001B[49m\u001B[43muse_na_proxy\u001B[49m\u001B[43m=\u001B[49m\u001B[43muse_na_proxy\u001B[49m\u001B[43m,\u001B[49m\n\u001B[32m    685\u001B[39m \u001B[43m    \u001B[49m\u001B[43m)\u001B[49m\n\u001B[32m    686\u001B[39m \u001B[38;5;28;01melse\u001B[39;00m:\n\u001B[32m    687\u001B[39m     new_blocks = [\n\u001B[32m    688\u001B[39m         blk.take_nd(\n\u001B[32m    689\u001B[39m             indexer,\n\u001B[32m   (...)\u001B[39m\u001B[32m    695\u001B[39m         \u001B[38;5;28;01mfor\u001B[39;00m blk \u001B[38;5;129;01min\u001B[39;00m \u001B[38;5;28mself\u001B[39m.blocks\n\u001B[32m    696\u001B[39m     ]\n",
      "\u001B[36mFile \u001B[39m\u001B[32m~\\PycharmProjects\\pythonProject2\\.venv\\Lib\\site-packages\\pandas\\core\\internals\\managers.py:773\u001B[39m, in \u001B[36mBaseBlockManager._slice_take_blocks_ax0\u001B[39m\u001B[34m(self, slice_or_indexer, fill_value, only_slice, use_na_proxy, ref_inplace_op)\u001B[39m\n\u001B[32m    770\u001B[39m         \u001B[38;5;28;01melse\u001B[39;00m:\n\u001B[32m    771\u001B[39m             bp = BlockPlacement(\u001B[38;5;28mslice\u001B[39m(\u001B[32m0\u001B[39m, sllen))\n\u001B[32m    772\u001B[39m             \u001B[38;5;28;01mreturn\u001B[39;00m [\n\u001B[32m--> \u001B[39m\u001B[32m773\u001B[39m                 \u001B[43mblk\u001B[49m\u001B[43m.\u001B[49m\u001B[43mtake_nd\u001B[49m\u001B[43m(\u001B[49m\n\u001B[32m    774\u001B[39m \u001B[43m                    \u001B[49m\u001B[43mslobj\u001B[49m\u001B[43m,\u001B[49m\n\u001B[32m    775\u001B[39m \u001B[43m                    \u001B[49m\u001B[43maxis\u001B[49m\u001B[43m=\u001B[49m\u001B[32;43m0\u001B[39;49m\u001B[43m,\u001B[49m\n\u001B[32m    776\u001B[39m \u001B[43m                    \u001B[49m\u001B[43mnew_mgr_locs\u001B[49m\u001B[43m=\u001B[49m\u001B[43mbp\u001B[49m\u001B[43m,\u001B[49m\n\u001B[32m    777\u001B[39m \u001B[43m                    \u001B[49m\u001B[43mfill_value\u001B[49m\u001B[43m=\u001B[49m\u001B[43mfill_value\u001B[49m\u001B[43m,\u001B[49m\n\u001B[32m    778\u001B[39m \u001B[43m                \u001B[49m\u001B[43m)\u001B[49m\n\u001B[32m    779\u001B[39m             ]\n\u001B[32m    781\u001B[39m \u001B[38;5;28;01mif\u001B[39;00m sl_type == \u001B[33m\"\u001B[39m\u001B[33mslice\u001B[39m\u001B[33m\"\u001B[39m:\n\u001B[32m    782\u001B[39m     blknos = \u001B[38;5;28mself\u001B[39m.blknos[slobj]\n",
      "\u001B[36mFile \u001B[39m\u001B[32m~\\PycharmProjects\\pythonProject2\\.venv\\Lib\\site-packages\\pandas\\core\\internals\\blocks.py:1307\u001B[39m, in \u001B[36mBlock.take_nd\u001B[39m\u001B[34m(self, indexer, axis, new_mgr_locs, fill_value)\u001B[39m\n\u001B[32m   1304\u001B[39m     allow_fill = \u001B[38;5;28;01mTrue\u001B[39;00m\n\u001B[32m   1306\u001B[39m \u001B[38;5;66;03m# Note: algos.take_nd has upcast logic similar to coerce_to_target_dtype\u001B[39;00m\n\u001B[32m-> \u001B[39m\u001B[32m1307\u001B[39m new_values = \u001B[43malgos\u001B[49m\u001B[43m.\u001B[49m\u001B[43mtake_nd\u001B[49m\u001B[43m(\u001B[49m\n\u001B[32m   1308\u001B[39m \u001B[43m    \u001B[49m\u001B[43mvalues\u001B[49m\u001B[43m,\u001B[49m\u001B[43m \u001B[49m\u001B[43mindexer\u001B[49m\u001B[43m,\u001B[49m\u001B[43m \u001B[49m\u001B[43maxis\u001B[49m\u001B[43m=\u001B[49m\u001B[43maxis\u001B[49m\u001B[43m,\u001B[49m\u001B[43m \u001B[49m\u001B[43mallow_fill\u001B[49m\u001B[43m=\u001B[49m\u001B[43mallow_fill\u001B[49m\u001B[43m,\u001B[49m\u001B[43m \u001B[49m\u001B[43mfill_value\u001B[49m\u001B[43m=\u001B[49m\u001B[43mfill_value\u001B[49m\n\u001B[32m   1309\u001B[39m \u001B[43m\u001B[49m\u001B[43m)\u001B[49m\n\u001B[32m   1311\u001B[39m \u001B[38;5;66;03m# Called from three places in managers, all of which satisfy\u001B[39;00m\n\u001B[32m   1312\u001B[39m \u001B[38;5;66;03m#  these assertions\u001B[39;00m\n\u001B[32m   1313\u001B[39m \u001B[38;5;28;01mif\u001B[39;00m \u001B[38;5;28misinstance\u001B[39m(\u001B[38;5;28mself\u001B[39m, ExtensionBlock):\n\u001B[32m   1314\u001B[39m     \u001B[38;5;66;03m# NB: in this case, the 'axis' kwarg will be ignored in the\u001B[39;00m\n\u001B[32m   1315\u001B[39m     \u001B[38;5;66;03m#  algos.take_nd call above.\u001B[39;00m\n",
      "\u001B[36mFile \u001B[39m\u001B[32m~\\PycharmProjects\\pythonProject2\\.venv\\Lib\\site-packages\\pandas\\core\\array_algos\\take.py:117\u001B[39m, in \u001B[36mtake_nd\u001B[39m\u001B[34m(arr, indexer, axis, fill_value, allow_fill)\u001B[39m\n\u001B[32m    114\u001B[39m     \u001B[38;5;28;01mreturn\u001B[39;00m arr.take(indexer, fill_value=fill_value, allow_fill=allow_fill)\n\u001B[32m    116\u001B[39m arr = np.asarray(arr)\n\u001B[32m--> \u001B[39m\u001B[32m117\u001B[39m \u001B[38;5;28;01mreturn\u001B[39;00m \u001B[43m_take_nd_ndarray\u001B[49m\u001B[43m(\u001B[49m\u001B[43marr\u001B[49m\u001B[43m,\u001B[49m\u001B[43m \u001B[49m\u001B[43mindexer\u001B[49m\u001B[43m,\u001B[49m\u001B[43m \u001B[49m\u001B[43maxis\u001B[49m\u001B[43m,\u001B[49m\u001B[43m \u001B[49m\u001B[43mfill_value\u001B[49m\u001B[43m,\u001B[49m\u001B[43m \u001B[49m\u001B[43mallow_fill\u001B[49m\u001B[43m)\u001B[49m\n",
      "\u001B[36mFile \u001B[39m\u001B[32m~\\PycharmProjects\\pythonProject2\\.venv\\Lib\\site-packages\\pandas\\core\\array_algos\\take.py:162\u001B[39m, in \u001B[36m_take_nd_ndarray\u001B[39m\u001B[34m(arr, indexer, axis, fill_value, allow_fill)\u001B[39m\n\u001B[32m    157\u001B[39m     out = np.empty(out_shape, dtype=dtype)\n\u001B[32m    159\u001B[39m func = _get_take_nd_function(\n\u001B[32m    160\u001B[39m     arr.ndim, arr.dtype, out.dtype, axis=axis, mask_info=mask_info\n\u001B[32m    161\u001B[39m )\n\u001B[32m--> \u001B[39m\u001B[32m162\u001B[39m \u001B[43mfunc\u001B[49m\u001B[43m(\u001B[49m\u001B[43marr\u001B[49m\u001B[43m,\u001B[49m\u001B[43m \u001B[49m\u001B[43mindexer\u001B[49m\u001B[43m,\u001B[49m\u001B[43m \u001B[49m\u001B[43mout\u001B[49m\u001B[43m,\u001B[49m\u001B[43m \u001B[49m\u001B[43mfill_value\u001B[49m\u001B[43m)\u001B[49m\n\u001B[32m    164\u001B[39m \u001B[38;5;28;01mif\u001B[39;00m flip_order:\n\u001B[32m    165\u001B[39m     out = out.T\n",
      "\u001B[31mKeyboardInterrupt\u001B[39m: "
     ]
    }
   ],
   "execution_count": 36
  },
  {
   "metadata": {
    "ExecuteTime": {
     "end_time": "2025-03-12T11:47:58.758078Z",
     "start_time": "2025-03-12T11:47:58.428595Z"
    }
   },
   "cell_type": "code",
   "source": [
    "#OPTIONAL\n",
    "import pandas as pd \n",
    "import matplotlib.dates as mdates\n",
    "import matplotlib.pyplot as plt\n",
    "import yfinance as yf\n",
    "stock_price = yf.download('TSLA', start='2024-01-01', end=\"2025-01-01\")\n",
    "#print(stock_price)\n",
    "#STEP 2: create stock price's history chart to check the trend. \n",
    "plt.figure(figsize=(10, 5)) # size\n",
    "#show plot general: stock_price.index: date X axis, stock_price['Close': Y axix ( close la 1 muc o yfinance)\n",
    "plt.plot(stock_price.index, stock_price['Close'], label='TESLA stock price',color='green') \n",
    "#Customize the chart\n",
    "plt.title('Stock Price History')\n",
    "plt.xlabel('Date')\n",
    "plt.ylabel('Closing Price')\n",
    "plt.legend()\n",
    "plt.grid(True)\n",
    "plt.show()"
   ],
   "id": "36b74b03dec09f49",
   "outputs": [
    {
     "name": "stderr",
     "output_type": "stream",
     "text": [
      "[*********************100%***********************]  1 of 1 completed\n"
     ]
    },
    {
     "data": {
      "text/plain": [
       "<Figure size 1000x500 with 1 Axes>"
      ],
      "image/png": "[encoded data removed]"
     },
     "metadata": {},
     "output_type": "display_data"
    }
   ],
   "execution_count": 40
  },
  {
   "metadata": {
    "ExecuteTime": {
     "end_time": "2025-03-12T11:48:41.950521Z",
     "start_time": "2025-03-12T11:48:41.837341Z"
    }
   },
   "cell_type": "code",
   "source": [
    "#Fetching cashflow\n",
    "ticker = yf.Ticker(stock)\n",
    "cash_flow= ticker.cashflow\n",
    "cash_flow = cash_flow.drop(\" 2020-12-31\", axis = 1)\n",
    "fcf = cash_flow.loc[\"Free Cash Flow\"].values \n",
    "print(cash_flow)\n",
    "#print(fcf)\n",
    "\n",
    "#Fetching income statement\n",
    "income_statement = ticker.income_stmt\n",
    "income_statement= income_statement.drop(\" 2020-12-31\", axis = 1)\n",
    "tp = income_statement.loc[\"Tax Provision\"].values\n",
    "\n",
    "#Calculate free cash flow to firm\n",
    "free_cash_flow_firm = (cash_flow.loc['Free Cash Flow'].astype(int) \\\n",
    "                    + (income_statement.loc['Interest Expense'].astype(int) \\\n",
    "                       * (1 - income_statement.loc['Tax Provision'].astype(int) \\\n",
    "                          / income_statement.loc['Pretax Income'].astype(int)))).astype(int)\n",
    "free_cash_flow_firm_df = free_cash_flow_firm.to_frame().transpose()\n",
    "print(free_cash_flow_firm_df)\n",
    "\n"
   ],
   "id": "8a9b755f88ba6b3f",
   "outputs": [
    {
     "name": "stdout",
     "output_type": "stream",
     "text": [
      "                                         2024-12-31    2023-12-31  \\\n",
      "Free Cash Flow                         1550000000.0  1714000000.0   \n",
      "Repayment Of Debt                     -1418000000.0  -855000000.0   \n",
      "Issuance Of Debt                        995000000.0  2006000000.0   \n",
      "Capital Expenditure                    -401000000.0  -387000000.0   \n",
      "Interest Paid Supplemental Data         550000000.0   570000000.0   \n",
      "...                                             ...           ...   \n",
      "Amortization Of Intangibles             312000000.0   362000000.0   \n",
      "Depreciation                            268000000.0   248000000.0   \n",
      "Operating Gains Losses                 -689000000.0  -689000000.0   \n",
      "Pension And Employee Benefit Expense   -689000000.0  -689000000.0   \n",
      "Net Income From Continuing Operations  2050000000.0  1618000000.0   \n",
      "\n",
      "                                         2022-12-31    2021-12-31  \n",
      "Free Cash Flow                         1803000000.0  1359000000.0  \n",
      "Repayment Of Debt                        -3000000.0   -10000000.0  \n",
      "Issuance Of Debt                       8198000000.0     5000000.0  \n",
      "Capital Expenditure                    -310000000.0  -248000000.0  \n",
      "Interest Paid Supplemental Data                 0.0    21000000.0  \n",
      "...                                             ...           ...  \n",
      "Amortization Of Intangibles             405000000.0   400000000.0  \n",
      "Depreciation                            228000000.0   225000000.0  \n",
      "Operating Gains Losses                   -9000000.0     5000000.0  \n",
      "Pension And Employee Benefit Expense     -9000000.0     5000000.0  \n",
      "Net Income From Continuing Operations  1949000000.0  2275000000.0  \n",
      "\n",
      "[61 rows x 4 columns]\n",
      "   2024-12-31  2023-12-31  2022-12-31  2021-12-31\n",
      "0  1951104223  2085434138  1869725318  1390652173\n"
     ]
    }
   ],
   "execution_count": 42
  },
  {
   "metadata": {
    "ExecuteTime": {
     "end_time": "2025-03-12T11:40:33.549901Z",
     "start_time": "2025-03-12T11:40:33.537825Z"
    }
   },
   "cell_type": "code",
   "source": [
    "#Combine to creat a present table to show on Excel\n",
    "income_statement_df = income_statement.loc[[\"Interest Expense\",\"Tax Provision\",\"Pretax Income\"],:]\n",
    "free_cf = cash_flow.loc[[\"Free Cash Flow\"],:]\n",
    "fcff_df=pd.concat([free_cf,income_statement_df])\n",
    "#print(fcff_df)\n",
    "\n",
    "fcff= pd.concat([fcff_df,free_cash_flow_firm_df],ignore_index=False) #show headers for rows : ignore index FALSE, otherwise  TRUE\n",
    "fcff = fcff.iloc[:, ::-1] #reverses the order of columns\n",
    "print(fcff)"
   ],
   "id": "2c3f37e1f4f6c29f",
   "outputs": [
    {
     "name": "stdout",
     "output_type": "stream",
     "text": [
      "                     2021-12-31     2022-12-31     2023-12-31     2024-12-31\n",
      "Free Cash Flow    12347000000.0  13044000000.0  13721000000.0  14598000000.0\n",
      "Interest Expense    920000000.0    938000000.0   1045000000.0   1037000000.0\n",
      "Tax Provision      1642000000.0   1062000000.0    560000000.0   1178000000.0\n",
      "Pretax Income      8518000000.0   6364000000.0   2162000000.0   5622000000.0\n",
      "0                   13089653204    13825470144    14495324699    15417713269\n"
     ]
    }
   ],
   "execution_count": 25
  },
  {
   "metadata": {
    "ExecuteTime": {
     "end_time": "2025-03-12T11:40:33.561362Z",
     "start_time": "2025-03-12T11:40:33.552905Z"
    }
   },
   "cell_type": "code",
   "source": [
    "# CALCULATE THA CAGR: \n",
    "#The table importing in yfinance shows earliest time at the last column [-1], latest at the first colum [0]\n",
    "earliest_free_cash_flow_firm = float(free_cash_flow_firm_df.iloc[0,len(free_cash_flow_firm_df.columns)-1]) \n",
    "latest_free_cash_flow_firm = float(free_cash_flow_firm_df.iloc[0,0])\n",
    "free_cash_flow_firm_CAGR = (latest_free_cash_flow_firm/earliest_free_cash_flow_firm)\\\n",
    "                            **(float(1/(len(free_cash_flow_firm_df.columns))))-1\n",
    "#print(earliest_free_cash_flow_firm)\n",
    "#print(float(len(free_cash_flow_firm_df.columns)))\n",
    "#print(latest_free_cash_flow_firm)\n",
    "free_cash_flow_firm_CAGR"
   ],
   "id": "9f08bb0899881230",
   "outputs": [
    {
     "data": {
      "text/plain": [
       "0.041772660666786754"
      ]
     },
     "execution_count": 26,
     "metadata": {},
     "output_type": "execute_result"
    }
   ],
   "execution_count": 26
  },
  {
   "metadata": {
    "ExecuteTime": {
     "end_time": "2025-03-12T11:49:46.964846Z",
     "start_time": "2025-03-12T11:49:46.951027Z"
    }
   },
   "cell_type": "code",
   "source": [
    "#FORECAST FCFF based on the CAGR: 1 stage model\n",
    "forecast_free_cash_flow_firm_df = pd.DataFrame(columns=['Year ' + str(i) for i in range(1,6)])\n",
    "free_cash_flow_firm_forecast_lst = []\n",
    "for i in range(1,6):\n",
    "    free_cash_flow_firm_forecast = latest_free_cash_flow_firm*(1+free_cash_flow_firm_CAGR)**i\n",
    "    free_cash_flow_firm_forecast_lst.append(int(free_cash_flow_firm_forecast))\n",
    "forecast_free_cash_flow_firm_df.loc[0] = free_cash_flow_firm_forecast_lst\n",
    "print(forecast_free_cash_flow_firm_df)\n",
    "\n",
    "#add this to the previous fcff table:\n",
    "combinedforecast_df = pd.concat([fcff,forecast_free_cash_flow_firm_df], axis = 1)\n",
    "print(combinedforecast_df)"
   ],
   "id": "4003674d55a4b2b6",
   "outputs": [
    {
     "name": "stdout",
     "output_type": "stream",
     "text": [
      "        Year 1       Year 2       Year 3       Year 4       Year 5\n",
      "0  16061752173  16732694296  17431663457  18159830420  18918414854\n",
      "                 2021-12-31 00:00:00 2022-12-31 00:00:00 2023-12-31 00:00:00  \\\n",
      "Free Cash Flow         12347000000.0       13044000000.0       13721000000.0   \n",
      "Interest Expense         920000000.0         938000000.0        1045000000.0   \n",
      "Tax Provision           1642000000.0        1062000000.0         560000000.0   \n",
      "Pretax Income           8518000000.0        6364000000.0        2162000000.0   \n",
      "0                        13089653204         13825470144         14495324699   \n",
      "\n",
      "                 2024-12-31 00:00:00        Year 1        Year 2  \\\n",
      "Free Cash Flow         14598000000.0           NaN           NaN   \n",
      "Interest Expense        1037000000.0           NaN           NaN   \n",
      "Tax Provision           1178000000.0           NaN           NaN   \n",
      "Pretax Income           5622000000.0           NaN           NaN   \n",
      "0                        15417713269  1.606175e+10  1.673269e+10   \n",
      "\n",
      "                        Year 3        Year 4        Year 5  \n",
      "Free Cash Flow             NaN           NaN           NaN  \n",
      "Interest Expense           NaN           NaN           NaN  \n",
      "Tax Provision              NaN           NaN           NaN  \n",
      "Pretax Income              NaN           NaN           NaN  \n",
      "0                 1.743166e+10  1.815983e+10  1.891841e+10  \n"
     ]
    }
   ],
   "execution_count": 43
  },
  {
   "metadata": {
    "ExecuteTime": {
     "end_time": "2025-03-12T11:40:34.066685Z",
     "start_time": "2025-03-12T11:40:33.580001Z"
    }
   },
   "cell_type": "code",
   "source": [
    "#Calulate cost of equity: We r using 10 year US treasury yield as the risk-free rate: yfinance provided less of other countries\n",
    "\n",
    "#RISK FREE RATE\n",
    "import yfinance as yf\n",
    "risk_free_rate = yf.Ticker(\"^TNX\").history(period=\"1d\")[\"Close\"].iloc[-1]/100\n",
    "print(risk_free_rate)\n",
    "\n",
    "#BETA\n",
    "ticker = yf.Ticker('MET')\n",
    "info = ticker.info\n",
    "# Get the beta value\n",
    "beta = info.get('beta')\n",
    "print(beta)\n",
    "\n",
    "#MARKET RATE: SP 500 ANNUALIZE 10 YEAR\n",
    "#(Ending Value / Starting Value) ^ (1 / number of years) - 1\n",
    "\n",
    "import numpy as np\n",
    "import pandas as pd\n",
    "ticker = \"^GSPC\"\n",
    "data = yf.download(ticker, period=\"10y\", interval=\"1d\")\n",
    "starting_price = data[\"Close\"].iloc[0]\n",
    "ending_price = data[\"Close\"].iloc[-1]\n",
    "years = (data.index[-1] - data.index[0]).days / 365.25\n",
    "market_rate = ((ending_price / starting_price) ** (1 / years) - 1)\n",
    "print(market_rate)\n",
    "\n",
    "# Cost of Equity: CAPM\n",
    "cost_of_equity = risk_free_rate + beta*(market_rate-risk_free_rate)\n",
    "cost_of_equity_df = float(cost_of_equity)\n",
    "print(cost_of_equity_df)\n"
   ],
   "id": "1341bb3ce4b3984c",
   "outputs": [
    {
     "name": "stdout",
     "output_type": "stream",
     "text": [
      "0.04288000106811524\n"
     ]
    },
    {
     "name": "stderr",
     "output_type": "stream",
     "text": [
      "[*********************100%***********************]  1 of 1 completed"
     ]
    },
    {
     "name": "stdout",
     "output_type": "stream",
     "text": [
      "1.03\n",
      "Ticker\n",
      "^GSPC    0.104322\n",
      "dtype: float64\n",
      "0.10616486889942522\n"
     ]
    },
    {
     "name": "stderr",
     "output_type": "stream",
     "text": [
      "\n",
      "C:\\Users\\User\\AppData\\Local\\Temp\\ipykernel_15640\\4005345828.py:30: FutureWarning: Calling float on a single element Series is deprecated and will raise a TypeError in the future. Use float(ser.iloc[0]) instead\n",
      "  cost_of_equity_df = float(cost_of_equity)\n"
     ]
    }
   ],
   "execution_count": 28
  },
  {
   "metadata": {
    "ExecuteTime": {
     "end_time": "2025-03-12T11:40:34.081102Z",
     "start_time": "2025-03-12T11:40:34.068470Z"
    }
   },
   "cell_type": "code",
   "source": [
    "# COST OF DEBT: CORP DEFAULT + RF RATE + country defualt spread ( NYU Professor)\n",
    "#Determine the corp default rate based on the EBIT/interest expense\n",
    "#: Mustbe value in the latest year\n",
    "\n",
    "interest_expense = income_statement.loc['Interest Expense']\n",
    "interest_expense_df = interest_expense.to_frame().transpose()\n",
    "interest_expense_str = interest_expense_df.values[0][0]\n",
    "interest_expense_int = int(interest_expense_str)\n",
    "print (interest_expense_int)\n",
    "\n",
    "EBIT = income_statement.loc['EBIT']\n",
    "EBIT_df = EBIT.to_frame().transpose()\n",
    "EBIT_str = EBIT_df.values[0][0]\n",
    "EBIT_int = int(EBIT_str)\n",
    "interest_coverage_ratio = EBIT_int/interest_expense_int\n",
    "print(interest_coverage_ratio)\n",
    "\n",
    "#CORP DEFAULT SPREAD FOR LARGE FINANCIAL FIRM (INSURANCE, BANKS, CREDIT UNION,..)\n",
    "#OPTIONAL: faster if look at the table\n",
    "def get_credit_rating(interest_coverage_ratio):\n",
    "    if interest_coverage_ratio <= 0.049999:\n",
    "        return {\"Rating\": \"D2/D\", \"Spread\": \"19.00%\"}\n",
    "    elif 0.05 <= interest_coverage_ratio <= 0.099999:\n",
    "        return {\"Rating\": \"C2/C\", \"Spread\": \"15.50%\"}\n",
    "    elif 0.1 <= interest_coverage_ratio <= 0.199999:\n",
    "        return {\"Rating\": \"Ca2/CC\", \"Spread\": \"10.10%\"}\n",
    "    elif 0.2 <= interest_coverage_ratio <= 0.299999:\n",
    "        return {\"Rating\": \"Caa/CCC\", \"Spread\": \"7.28%\"}\n",
    "    elif 0.3 <= interest_coverage_ratio <= 0.399999:\n",
    "        return {\"Rating\": \"B3/B-\", \"Spread\": \"4.42%\"}\n",
    "    elif 0.4 <= interest_coverage_ratio <= 0.499999:\n",
    "        return {\"Rating\": \"B2/B\", \"Spread\": \"3.00%\"}\n",
    "    elif 0.5 <= interest_coverage_ratio <= 0.599999:\n",
    "        return {\"Rating\": \"B1/B+\", \"Spread\": \"2.61%\"}\n",
    "    elif 0.6 <= interest_coverage_ratio <= 0.749999:\n",
    "        return {\"Rating\": \"Ba2/BB\", \"Spread\": \"1.83%\"}\n",
    "    elif 0.75 <= interest_coverage_ratio <= 0.899999:\n",
    "        return {\"Rating\": \"Ba1/BB+\", \"Spread\": \"1.55%\"}\n",
    "    elif 0.9 <= interest_coverage_ratio <= 1.199999:\n",
    "        return {\"Rating\": \"Ba2/BBB\", \"Spread\": \"1.20%\"}\n",
    "    elif 1.2 <= interest_coverage_ratio <= 1.49999:\n",
    "        return {\"Rating\": \"A3/A-\", \"Spread\": \"0.95%\"}\n",
    "    elif 1.5 <= interest_coverage_ratio <= 1.99999:\n",
    "        return {\"Rating\": \"A2/A\", \"Spread\": \"0.85%\"}\n",
    "    elif 2 <= interest_coverage_ratio <= 2.49999:\n",
    "        return {\"Rating\": \"A1/A+\", \"Spread\": \"0.77%\"}\n",
    "    elif 2.5 <= interest_coverage_ratio <= 2.99999:\n",
    "        return {\"Rating\": \"Aa2/AA\", \"Spread\": \"0.60%\"}\n",
    "    else:\n",
    "        return {\"Rating\": \"Aaa/AAA\", \"Spread\": \"0.45%\"}\n",
    "rating_info = get_credit_rating(interest_coverage_ratio)\n",
    "print(rating_info)\n",
    "spread = float(rating_info[\"Spread\"].strip('%'))  # GET ONLY the spread\n",
    "\n",
    "#Cost of debt:\n",
    "cost_of_debt = risk_free_rate + spread/100\n",
    "print(cost_of_debt)\n"
   ],
   "id": "454acd16c466ae3a",
   "outputs": [
    {
     "name": "stdout",
     "output_type": "stream",
     "text": [
      "1037000000\n",
      "6.421407907425265\n",
      "{'Rating': 'Aaa/AAA', 'Spread': '0.45%'}\n",
      "0.04738000106811524\n"
     ]
    }
   ],
   "execution_count": 29
  },
  {
   "metadata": {
    "ExecuteTime": {
     "end_time": "2025-03-12T11:55:38.212500Z",
     "start_time": "2025-03-12T11:55:37.975686Z"
    }
   },
   "cell_type": "code",
   "source": [
    "#Determine the weight of Equity and weight of Debt + WACC calculation\n",
    "#Weight of Equity: latest market capitalization\n",
    "import yfinance as yf\n",
    "stock = \"MET\"\n",
    "ticker = yf.Ticker(stock)\n",
    "market_cap = ticker.info['marketCap']\n",
    "#print(market_cap)\n",
    "\n",
    "# Total Debt: Look at the company fair value estimated:\n",
    "market_value_debt = 14498000 + 425000\n",
    "#print(market_value_debt)\n",
    "\n",
    "# Effective Tax Rate\n",
    "effective_tax_rate = income_statement.loc['Tax Provision'].astype(int) \\\n",
    "                    / income_statement.loc['Pretax Income'].astype(int)\n",
    "avg_effective_tax_rate = sum(effective_tax_rate) / len(effective_tax_rate)\n",
    "#print(effective_tax_rate)\n",
    "#print(avg_effective_tax_rate)\n",
    "\n",
    "#WACC CALCULATION\n",
    "company_value = market_value_debt+ market_cap\n",
    "WACC = ((market_cap/company_value) * cost_of_equity) \\\n",
    "        + ((market_value_debt/company_value) * (cost_of_debt * (1-avg_effective_tax_rate)))\n",
    "WACC_df = float(WACC)\n",
    "print(WACC_df)"
   ],
   "id": "a623a81a19586241",
   "outputs": [
    {
     "name": "stdout",
     "output_type": "stream",
     "text": [
      "0.10614530661665793\n"
     ]
    },
    {
     "name": "stderr",
     "output_type": "stream",
     "text": [
      "C:\\Users\\User\\AppData\\Local\\Temp\\ipykernel_15640\\1402690095.py:24: FutureWarning: Calling float on a single element Series is deprecated and will raise a TypeError in the future. Use float(ser.iloc[0]) instead\n",
      "  WACC_df = float(WACC)\n"
     ]
    }
   ],
   "execution_count": 51
  },
  {
   "metadata": {
    "ExecuteTime": {
     "end_time": "2025-03-12T11:42:32.763578Z",
     "start_time": "2025-03-12T11:42:32.753089Z"
    }
   },
   "cell_type": "code",
   "source": [
    "#Presennt WACC components onto Excel:\n",
    "equity_risk_premium = float(market_rate - risk_free_rate)\n",
    "after_tax_cod = avg_effective_tax_rate * cost_of_debt\n",
    "after_tax_cod = float(after_tax_cod)\n",
    "target_DE = market_value_debt/market_cap\n",
    "target_DE = float(target_DE)\n",
    "debt_tren_value = float(market_value_debt/ company_value)\n",
    "equity_tren_value = float(market_cap/ company_value )\n",
    "\n",
    "#WACC COMPONENT table: \n",
    "import pandas as pd\n",
    "data = {\n",
    "    \"Cost of Equity\": [\"\"],\n",
    "    \"Risk Free Rate\": [risk_free_rate],\n",
    "    \"Equity Risk Premium\": [equity_risk_premium],\n",
    "    \"Beta\": [beta],\n",
    "    \"CAPM\": [cost_of_equity_df],\n",
    "    \"Cost of Debt\": [\"\"],\n",
    "    \"Pre_tax cost of Debt\": [cost_of_debt],\n",
    "    \"Tax Rate\": [avg_effective_tax_rate],\n",
    "    \"After-tax cost of debt\": [after_tax_cod],\n",
    "    \"\":[\"\"], #CACH DONG\n",
    "    \"Target market D/E\": [target_DE],\n",
    "    \"Weight of Debt\": [debt_tren_value],\n",
    "    \"Weight of Equity\": [equity_tren_value],\n",
    "    \"WACC\": [WACC_df],\n",
    "}\n",
    "\n",
    "combinedWACC_df = pd.DataFrame(data, index=[\"Values\"]).T\n",
    "print(combinedWACC_df)\n"
   ],
   "id": "76e9aa0e1316616a",
   "outputs": [
    {
     "name": "stdout",
     "output_type": "stream",
     "text": [
      "                          Values\n",
      "Cost of Equity                  \n",
      "Risk Free Rate           0.04288\n",
      "Equity Risk Premium     0.061442\n",
      "Beta                        1.03\n",
      "CAPM                    0.106165\n",
      "Cost of Debt                    \n",
      "Pre_tax cost of Debt     0.04738\n",
      "Tax Rate                0.207049\n",
      "After-tax cost of debt   0.00981\n",
      "                                \n",
      "Target market D/E       0.000279\n",
      "Weight of Debt          0.000279\n",
      "Weight of Equity        0.999721\n",
      "WACC                    0.106146\n"
     ]
    },
    {
     "name": "stderr",
     "output_type": "stream",
     "text": [
      "C:\\Users\\User\\AppData\\Local\\Temp\\ipykernel_15640\\720779674.py:2: FutureWarning: Calling float on a single element Series is deprecated and will raise a TypeError in the future. Use float(ser.iloc[0]) instead\n",
      "  equity_risk_premium = float(market_rate - risk_free_rate)\n"
     ]
    }
   ],
   "execution_count": 33
  },
  {
   "metadata": {
    "ExecuteTime": {
     "end_time": "2025-03-12T11:54:36.098356Z",
     "start_time": "2025-03-12T11:54:36.045795Z"
    }
   },
   "cell_type": "code",
   "source": [
    "#DCF MODEL\n",
    "\n",
    "#Enterprise value\n",
    "discounted_FCFF_lst = []\n",
    "for year in range(0, 5):\n",
    "    discounted_FCFF = forecast_free_cash_flow_firm_df.iloc[0, year]/(WACC + 1)** (year+1)\n",
    "    discounted_FCFF_lst.append(int(discounted_FCFF.iloc[0]))\n",
    "enterprise_value = sum(discounted_FCFF_lst)\n",
    "print(f\"Enterprise value: {enterprise_value}\")\n",
    "\n",
    "#Equity value = Enterprise + cash - debt\n",
    "import yfinance as yf\n",
    "stock = \"MET\"\n",
    "ticker = yf.Ticker(stock)\n",
    "balance_sheet= ticker.balance_sheet\n",
    "#print(balance_sheet)\n",
    "cash = balance_sheet.loc['Cash And Cash Equivalents']\n",
    "cash_df = cash.to_frame().transpose()\n",
    "cash_str = cash_df.values[0][0]\n",
    "cash_int = int(cash_str)\n",
    "\n",
    "equity_value = enterprise_value + cash_int - market_value_debt\n",
    "print(f\"Equity value: {equity_value}\")\n",
    "\n",
    "#SHARE OUTSTANDING: latest year: issued shares - treasury share\n",
    "share_issued = balance_sheet.loc['Share Issued']\n",
    "share_issued_df = share_issued.to_frame().transpose()\n",
    "share_issued_str = share_issued_df.values[0][0]\n",
    "share_issued_int = int(share_issued_str)\n",
    "\n",
    "treasury_shares = balance_sheet.loc['Treasury Shares Number']\n",
    "treasury_shares_df = treasury_shares.to_frame().transpose()\n",
    "treasury_shares_str = treasury_shares_df.values[0][0]\n",
    "treasury_shares_int = int(treasury_shares_str)\n",
    "\n",
    "share_outstanding = share_issued_int - treasury_shares_int\n",
    "print(f\"Share outstanding: {share_outstanding}\")\n",
    "\n",
    "#STOCK VALUE\n",
    "stock_price = equity_value / share_outstanding\n",
    "print(f\"stock price: {stock_price}\")"
   ],
   "id": "f06eaa0fdc26431d",
   "outputs": [
    {
     "name": "stdout",
     "output_type": "stream",
     "text": [
      "Enterprise value: 64629658302\n",
      "Equity value: 84682735302\n",
      "Share outstanding: 689211065\n",
      "stock price: 122.86908844390071\n"
     ]
    }
   ],
   "execution_count": 49
  },
  {
   "metadata": {},
   "cell_type": "code",
   "source": "",
   "id": "f5fe064b2f6463c7",
   "outputs": [],
   "execution_count": null
  },
  {
   "metadata": {},
   "cell_type": "code",
   "outputs": [],
   "execution_count": null,
   "source": "",
   "id": "f6cba5328b5811bb"
  },
  {
   "metadata": {
    "ExecuteTime": {
     "end_time": "2025-03-12T11:42:40.423281Z",
     "start_time": "2025-03-12T11:42:40.293430Z"
    }
   },
   "cell_type": "code",
   "source": [
    "#PRESENT ALL ONTO AN EXISTING EXCEL WORKBOOK:\n",
    "import pandas as pd\n",
    "from openpyxl import load_workbook\n",
    "file_path= r\"C:\\Users\\User\\Desktop/DCF.xlsx\"\n",
    "with pd.ExcelWriter(file_path, mode='a', engine=\"openpyxl\", if_sheet_exists='overlay') as writer:\n",
    "   balance_sheet.to_excel(writer, sheet_name='balance_sheet')\n",
    "   income_statement.to_excel(writer, sheet_name='income_statement') \n",
    "   cash_flow.to_excel(writer, sheet_name='cash_flow')\n",
    "   combinedforecast_df.to_excel(writer, sheet_name='DCF')\n",
    "   combinedWACC_df.to_excel(writer, sheet_name='WACC')\n",
    "                      "
   ],
   "id": "950db9649427e1a",
   "outputs": [],
   "execution_count": 35
  },
  {
   "metadata": {},
   "cell_type": "code",
   "outputs": [],
   "execution_count": null,
   "source": "",
   "id": "db649e1d05602df7"
  }
 ],
 "metadata": {
  "kernelspec": {
   "display_name": "Python 3",
   "language": "python",
   "name": "python3"
  },
  "language_info": {
   "codemirror_mode": {
    "name": "ipython",
    "version": 2
   },
   "file_extension": ".py",
   "mimetype": "text/x-python",
   "name": "python",
   "nbconvert_exporter": "python",
   "pygments_lexer": "ipython2",
   "version": "2.7.6"
  }
 },
 "nbformat": 4,
 "nbformat_minor": 5
}
